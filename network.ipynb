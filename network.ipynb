{
 "cells": [
  {
   "cell_type": "markdown",
   "id": "50b3f810-ef6b-41c1-85b2-9010a8cf0404",
   "metadata": {
    "tags": []
   },
   "source": [
    "# Graphs importation from API"
   ]
  },
  {
   "cell_type": "markdown",
   "id": "3b9ebfae-4cb9-42a7-be6f-18c7b0a46bb4",
   "metadata": {},
   "source": [
    "This file will create a folder \"Graphs\" and import for each sub-sector a network with all type of road and also two other networks with the walkable and bikeable roads. Then, all networks are saved into \"Graphs\" in order to calculate the security factor."
   ]
  },
  {
   "cell_type": "code",
   "execution_count": 1,
   "id": "1091578d",
   "metadata": {},
   "outputs": [],
   "source": [
    "#import library\n",
    "\n",
    "import osmnx as ox\n",
    "import geopandas as gpd\n"
   ]
  },
  {
   "cell_type": "code",
   "execution_count": 2,
   "id": "b1fb6bc5",
   "metadata": {},
   "outputs": [
    {
     "data": {
      "text/html": [
       "<div>\n",
       "<style scoped>\n",
       "    .dataframe tbody tr th:only-of-type {\n",
       "        vertical-align: middle;\n",
       "    }\n",
       "\n",
       "    .dataframe tbody tr th {\n",
       "        vertical-align: top;\n",
       "    }\n",
       "\n",
       "    .dataframe thead th {\n",
       "        text-align: right;\n",
       "    }\n",
       "</style>\n",
       "<table border=\"1\" class=\"dataframe\">\n",
       "  <thead>\n",
       "    <tr style=\"text-align: right;\">\n",
       "      <th></th>\n",
       "      <th>NOM_SSECTE</th>\n",
       "      <th>NOM_SECTEU</th>\n",
       "      <th>POP</th>\n",
       "      <th>geometry</th>\n",
       "    </tr>\n",
       "  </thead>\n",
       "  <tbody>\n",
       "    <tr>\n",
       "      <th>0</th>\n",
       "      <td>La Petite-Boisière</td>\n",
       "      <td>Florissant - Malagnou</td>\n",
       "      <td>1172</td>\n",
       "      <td>POLYGON ((6.16607 46.19628, 6.16618 46.19642, ...</td>\n",
       "    </tr>\n",
       "  </tbody>\n",
       "</table>\n",
       "</div>"
      ],
      "text/plain": [
       "           NOM_SSECTE             NOM_SECTEU   POP  \\\n",
       "0  La Petite-Boisière  Florissant - Malagnou  1172   \n",
       "\n",
       "                                            geometry  \n",
       "0  POLYGON ((6.16607 46.19628, 6.16618 46.19642, ...  "
      ]
     },
     "execution_count": 2,
     "metadata": {},
     "output_type": "execute_result"
    }
   ],
   "source": [
    "# sub-sector\n",
    "\n",
    "sous_sect = gpd.read_file('Data/geojson/sous_secteur.geojson')\n",
    "ss=sous_sect[['NOM_SSECTE','NOM_SECTEU','POP', 'geometry']]\n",
    "ss=ss.to_crs(4326)\n",
    "ss.head(1)"
   ]
  },
  {
   "cell_type": "code",
   "execution_count": 14,
   "id": "a218c191",
   "metadata": {},
   "outputs": [
    {
     "name": "stdout",
     "output_type": "stream",
     "text": [
      "0123456789101112131415161718192021222324252627282930313233343536373839404142434445464748495051525354555657585960616263646566676869707172737475767778798081828384858687888990919293949596979899100101102103104105106107108109110111112113114115116117118119120121122123124125126127128129130131132133134135136137138139140141142143144145146147148149150151152153154155156157158159160161162163164165166167168169170171172173174175176177178179180181182183184185186187188189190191192193194195196197198199200201202203204205206207208209210211212213214215216217218219220221222223224225226227228229230231232233234235236237238239240241242243244245246247248249250251252253254255256257258259260261262263264265266267268269270271272273274275276277278279280281282283284285286287288289290291292293294295296297298299300301302303304305306307308309310311312313314315316317318319320321322323324325326327328329330331332333334335336337338339340341342343344345346347348349350351352353354355356357358359360361362363364365366367368369370371372373374375376377378379380381382383384385386387388389390391392393394395396397398399400401402403404405406407408409410411412413414415416417418419420421422423424425426427428429430431432433434435436437438439440441442443444445446447448449450451452453454455456457458459460461462463464465466467468469470471472473474CPU times: total: 27min 50s\n",
      "Wall time: 4h 23min 44s\n"
     ]
    }
   ],
   "source": [
    "%%time\n",
    "gdf_ss_walk=[]\n",
    "gdf_ss_bike=[]\n",
    "gdf_ss_drive=[]\n",
    "count=0\n",
    "for g in ss.geometry:\n",
    "    print(count,end=\"/\")\n",
    "    gdf_w=ox.graph.graph_from_polygon(g, network_type=\"walk\", simplify=False,retain_all=True)\n",
    "    gdf_b=ox.graph.graph_from_polygon(g, network_type=\"bike\", simplify=False,retain_all=True)\n",
    "    gdf_d=ox.graph.graph_from_polygon(g, network_type=\"all_private\", simplify=False,retain_all=True)\n",
    "    gdf_ss_walk.append(gdf_w)\n",
    "    gdf_ss_bike.append(gdf_b)\n",
    "    gdf_ss_drive.append(gdf_d)\n",
    "    count+=1\n"
   ]
  },
  {
   "cell_type": "code",
   "execution_count": 7,
   "id": "0aab1dc8",
   "metadata": {},
   "outputs": [
    {
     "name": "stdout",
     "output_type": "stream",
     "text": [
      "CPU times: total: 1min 23s\n",
      "Wall time: 1min 25s\n"
     ]
    }
   ],
   "source": [
    "%%time\n",
    "for n,G in enumerate(gdf_ss_walk):\n",
    "    filepath = 'Graphs/walk_graph_ss{}.graphml'.format(n)\n",
    "    ox.save_graphml(G, filepath)"
   ]
  },
  {
   "cell_type": "code",
   "execution_count": 8,
   "id": "1b6a2f5c-48b2-4d62-851b-11f843b619e9",
   "metadata": {},
   "outputs": [
    {
     "name": "stdout",
     "output_type": "stream",
     "text": [
      "CPU times: total: 49.8 s\n",
      "Wall time: 50.4 s\n"
     ]
    }
   ],
   "source": [
    "%%time\n",
    "for n,G in enumerate(gdf_ss_bike):\n",
    "    filepath = 'Graphs/bike_graph_ss{}.graphml'.format(n)\n",
    "    ox.save_graphml(G, filepath)"
   ]
  },
  {
   "cell_type": "code",
   "execution_count": 15,
   "id": "01d72fa8-1c9a-4fd2-a0fc-a5df5557f325",
   "metadata": {},
   "outputs": [
    {
     "name": "stdout",
     "output_type": "stream",
     "text": [
      "CPU times: total: 1min 39s\n",
      "Wall time: 1min 41s\n"
     ]
    }
   ],
   "source": [
    "%%time\n",
    "for n,G in enumerate(gdf_ss_drive):\n",
    "    filepath = 'Graphs/all_graph_ss{}.graphml'.format(n)\n",
    "    ox.save_graphml(G, filepath)"
   ]
  }
 ],
 "metadata": {
  "kernelspec": {
   "display_name": "Python 3 (ipykernel)",
   "language": "python",
   "name": "python3"
  },
  "language_info": {
   "codemirror_mode": {
    "name": "ipython",
    "version": 3
   },
   "file_extension": ".py",
   "mimetype": "text/x-python",
   "name": "python",
   "nbconvert_exporter": "python",
   "pygments_lexer": "ipython3",
   "version": "3.10.4"
  },
  "widgets": {
   "application/vnd.jupyter.widget-state+json": {
    "state": {},
    "version_major": 2,
    "version_minor": 0
   }
  }
 },
 "nbformat": 4,
 "nbformat_minor": 5
}
